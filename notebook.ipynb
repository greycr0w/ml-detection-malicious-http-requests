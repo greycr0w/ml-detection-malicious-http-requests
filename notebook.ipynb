{
  "nbformat": 4,
  "nbformat_minor": 0,
  "metadata": {
    "colab": {
      "name": "Version Github.ipynb",
      "version": "0.3.2",
      "provenance": [],
      "collapsed_sections": []
    },
    "kernelspec": {
      "display_name": "Python 3",
      "language": "python",
      "name": "python3"
    }
  },
  "cells": [
    {
      "metadata": {
        "id": "r0fDlDdZs6fE",
        "colab_type": "text"
      },
      "cell_type": "markdown",
      "source": [
        "## READ IN DATA"
      ]
    },
    {
      "metadata": {
        "id": "AuLbMtkvs6fG",
        "colab_type": "code",
        "colab": {}
      },
      "cell_type": "code",
      "source": [
        "import re\n",
        "import pandas as pd\n",
        "import numpy as np\n",
        "\n",
        "\n",
        "headers=['domain', 'path', 'size', 'ip', 'foo', 'bar', 'datetime', 'request', 'status', 'size2', 'referer', 'user_agent']\n",
        "regex = r'(?:(.*?) (.*) (\\d+?|-) )?(\\d+\\.\\d+\\.\\d+\\.\\d+|-) (.*?) (.*?) \\[(.*?)\\] \"(.*?[^\\\\])\" (.*?) (\\d+?|-)(?: \"(.*?)\" \"(.*?)\")?$'\n",
        "\n",
        "array = []\n",
        "l=0\n",
        "\n",
        "with open(\"short.txt\",\"r\") as file:\n",
        "    for line in file:        \n",
        "        values = []\n",
        "        if re.match(regex, line) is not None:\n",
        "            m = re.match(regex, line)\n",
        "            for i in range(1,13):  \n",
        "                if m.group(i) is not None:\n",
        "                    values.append(m.group(i)) \n",
        "                else:\n",
        "                    values.append('None')\n",
        "                    #print(values[i])\n",
        "        \n",
        "        else:\n",
        "            print(l+1)\n",
        "        \n",
        "        array.append(values)        \n",
        "        l+=1"
      ],
      "execution_count": 0,
      "outputs": []
    },
    {
      "metadata": {
        "id": "EiBt4EQXs6fM",
        "colab_type": "text"
      },
      "cell_type": "markdown",
      "source": [
        "## MAKE DATA FRAME"
      ]
    },
    {
      "metadata": {
        "id": "1YKGEDnvs6fM",
        "colab_type": "code",
        "colab": {}
      },
      "cell_type": "code",
      "source": [
        "df = pd.DataFrame(array, columns=headers)\n",
        "df.head()\n",
        "#df.dtypes"
      ],
      "execution_count": 0,
      "outputs": []
    },
    {
      "metadata": {
        "id": "XxHcWdVks6fU",
        "colab_type": "text"
      },
      "cell_type": "markdown",
      "source": [
        "## Cleaning"
      ]
    },
    {
      "metadata": {
        "id": "oQK3YTZVs6fW",
        "colab_type": "code",
        "colab": {}
      },
      "cell_type": "code",
      "source": [
        "#CONVERT DATE TIME\n",
        "from datetime import datetime\n",
        "\n",
        "f = '%d/%b/%Y:%H:%M:%S %z'\n",
        "time_conv = lambda x: datetime.strptime(x, f)\n",
        "df['datetime']=df['datetime'].apply(time_conv)\n",
        "\n",
        "#CONVERT TO NUMERIC\n",
        "df[['size','size2','status']] = df[['size','size2','status']].apply(pd.to_numeric, errors=\"coerce\")\n",
        "\n",
        "#DIVIDE BY COLUMN DETAILS (BOTS OR NOT)\n",
        "df['bot_or_not']= df['user_agent'].str.contains('bot')\n",
        "\n",
        "#CHANGE TIME FROM EARLIEST TIME\n",
        "df['delta_t']=df['datetime']-np.min(df['datetime'])\n",
        "\n",
        "#REMOVE UNNECESSARY COULMNS\n",
        "df=df.drop(columns='foo')\n",
        "df=df.drop(columns='bar')\n",
        "df=df.drop(columns='size2')\n",
        "df.head()"
      ],
      "execution_count": 0,
      "outputs": []
    },
    {
      "metadata": {
        "id": "tbtr6kK-s6fc",
        "colab_type": "text"
      },
      "cell_type": "markdown",
      "source": [
        "# Split the request"
      ]
    },
    {
      "metadata": {
        "scrolled": false,
        "id": "vHcr3qyGs6fd",
        "colab_type": "code",
        "colab": {}
      },
      "cell_type": "code",
      "source": [
        "regex_request = r'(?:(?:(GET|POST|PUT|HEAD|DELETE|PATCH|OPTIONS|TRACE))?(?: ?)(?:(.*))?(?: ))?(?:(.*))?'\n",
        "\n",
        "request_method,request_content,request_version= [],[],[]\n",
        "\n",
        "for item in df['request']:\n",
        "    if re.match(regex_request, item) is not None:\n",
        "        rq = re.match(regex_request, item)\n",
        "        request_method.append(rq.group(1))\n",
        "        request_content.append(rq.group(2))\n",
        "        request_version.append(rq.group(3))\n",
        "    else:\n",
        "        request_method,request_content,request_version = None,None,None\n",
        "\n",
        "df['request_method'],df['request_content'],df['request_version'] = request_method,request_content,request_version\n",
        "\n",
        "df.head()"
      ],
      "execution_count": 0,
      "outputs": []
    },
    {
      "metadata": {
        "id": "dVVJdUk0s6fi",
        "colab_type": "text"
      },
      "cell_type": "markdown",
      "source": [
        "## SOME RESEARCH ON THE REQUEST CONTENT"
      ]
    },
    {
      "metadata": {
        "id": "NBHa4Jsds6fk",
        "colab_type": "text"
      },
      "cell_type": "markdown",
      "source": [
        "### XML RPC"
      ]
    },
    {
      "metadata": {
        "id": "Mi5Kdbfys6fm",
        "colab_type": "code",
        "colab": {}
      },
      "cell_type": "code",
      "source": [
        "#XML RPC\n",
        "#DIVIDE BY COLUMN DETAILS (WITH XML RPC OR NOT)\n",
        "df['xmlrpc']= df['request_content'].str.contains('xmlrpc.php')\n",
        "df.head()"
      ],
      "execution_count": 0,
      "outputs": []
    },
    {
      "metadata": {
        "id": "OaA0VNIys6fr",
        "colab_type": "code",
        "colab": {}
      },
      "cell_type": "code",
      "source": [
        "#If there is Wordpress installed on the website\n",
        "#It can be supspicious\n",
        "df.index[df['xmlrpc'] == True].tolist()"
      ],
      "execution_count": 0,
      "outputs": []
    },
    {
      "metadata": {
        "id": "JSPAlMt8s6fv",
        "colab_type": "code",
        "colab": {}
      },
      "cell_type": "code",
      "source": [
        "### LOOK ALSO FOR 200 STATUS\n",
        "#Hackers, probably\n",
        "df.index[(df[\"xmlrpc\"] == True) & (df[\"status\"] == 200)].tolist()"
      ],
      "execution_count": 0,
      "outputs": []
    },
    {
      "metadata": {
        "id": "4w8LA5rLs6fz",
        "colab_type": "code",
        "colab": {}
      },
      "cell_type": "code",
      "source": [
        "#CREATE A COLUMN XMLRPC_WARNING\n",
        "xmlrpc_warning = []\n",
        "for index,value in enumerate(df['xmlrpc']):\n",
        "    if df['xmlrpc'].iloc[index] == True and df[\"status\"].iloc[index] == 200:\n",
        "        xmlrpc_warning.append(True)\n",
        "    else:\n",
        "        xmlrpc_warning.append(False)\n",
        "\n",
        "df['xmlrpc_warning'] = xmlrpc_warning"
      ],
      "execution_count": 0,
      "outputs": []
    },
    {
      "metadata": {
        "id": "JMksuDuVs6f3",
        "colab_type": "code",
        "colab": {}
      },
      "cell_type": "code",
      "source": [
        "df['xmlrpc_warning']"
      ],
      "execution_count": 0,
      "outputs": []
    },
    {
      "metadata": {
        "id": "3paIiC68s6f8",
        "colab_type": "code",
        "colab": {}
      },
      "cell_type": "code",
      "source": [
        "#Hackers, probably ! \n",
        "#They try to determine if you’re running a piece of software, or if you are running a specific version of some software.\n",
        "df.index[(df[\"xmlrpc\"] == True) & (df[\"status\"] == 404)].tolist()"
      ],
      "execution_count": 0,
      "outputs": []
    },
    {
      "metadata": {
        "id": "IAskjOwts6gF",
        "colab_type": "code",
        "colab": {}
      },
      "cell_type": "code",
      "source": [
        "#CREATE A COLUMN XMLRPC_SERIOUS\n",
        "xmlrpc_serious = []\n",
        "for index,value in enumerate(df['xmlrpc']):\n",
        "    if df['xmlrpc'].iloc[index] == True and df[\"status\"].iloc[index] == 404:\n",
        "        xmlrpc_serious.append(True)\n",
        "    else:\n",
        "        xmlrpc_serious.append(False)\n",
        "\n",
        "df['xmlrpc_serious'] = xmlrpc_serious"
      ],
      "execution_count": 0,
      "outputs": []
    },
    {
      "metadata": {
        "id": "bbuABFNfs6gP",
        "colab_type": "code",
        "colab": {}
      },
      "cell_type": "code",
      "source": [
        ""
      ],
      "execution_count": 0,
      "outputs": []
    },
    {
      "metadata": {
        "id": "ZMm5zsU-s6gX",
        "colab_type": "text"
      },
      "cell_type": "markdown",
      "source": [
        "### SEARCHNIG FOR SOME INJECTION"
      ]
    },
    {
      "metadata": {
        "id": "8fKWd6m9s6ga",
        "colab_type": "code",
        "colab": {}
      },
      "cell_type": "code",
      "source": [
        ""
      ],
      "execution_count": 0,
      "outputs": []
    },
    {
      "metadata": {
        "id": "hayHhUrEs6ge",
        "colab_type": "code",
        "colab": {}
      },
      "cell_type": "code",
      "source": [
        "regrex_login='pass|password|Password|Pass|pswd|pwd|username|Username'\n",
        "regex_sudo = 'sudo'\n",
        "regex_a2 = \"/(\\')|(\\%27)|(\\-\\-)|(#)|(\\%23)/ix\"\n",
        "regex_sql = '/(\\')|(\\%27)|(\\-\\-)|(#)|(\\%23)/ix'\n",
        "regex_sql2=\"/\\w*((\\%27)|(\\'))((\\%6F)|o|(\\%4F))((\\%72)|r|(\\%52))/ix\"\n",
        "regex_xss = \"/((\\%3C)|<)((\\%2F)|\\/)*[a-z0-9\\%]+((\\%3E)|>)/ix\" \n",
        "regex_os = \"/(\\||%00|system\\(|eval\\(|`|\\\\)/i\"\n",
        "regex_xss_img = \"/((\\%3C)|<)((\\%69)|i|(\\%49))((\\%6D)|m|(\\%4D))((\\%67)|g|(\\%47))[^\\n]+((\\%3E)|>)/I\"\n",
        "regex_cd = '\\/\\.\\./'\n",
        "regex_groups = 'etc\\/groups'\n",
        "regex_sql_to_shell = '/exec(\\s|\\+)+(s|x)p\\w+/ix'\n",
        "regex_remote_file = '/(https?|ftp|php|data):/i'\n",
        "\n",
        "\n",
        "df['SQL']= df['request_content'].str.contains(regex_sql)\n",
        "df['login']= df['request_content'].str.contains(regrex_login)\n",
        "df['sudo']= df['request_content'].str.contains(regex_sudo)\n",
        "df['cd']= df['request_content'].str.contains(regex_cd)\n",
        "df['groups'] = df['request_content'].str.contains(regex_groups)\n",
        "\n",
        "df['SQL_union']=df['request_content'].loc[df['SQL']==True].str.contains('union')\n",
        "df['a2_injection']=df['request_content'].str.contains(regex_a2)\n",
        "\n",
        "df['sql_shell']=df['request_content'].str.contains(regex_sql_to_shell)\n",
        "df['remote_file']=df['request_content'].str.contains(regex_remote_file)\n",
        "\n",
        "\n",
        "'''\n",
        "TO LOOK FOR\n",
        "same ip , different domain, xmlrpc\n",
        "short amount of time '''\n",
        "\n",
        "     \n",
        "df.head()"
      ],
      "execution_count": 0,
      "outputs": []
    },
    {
      "metadata": {
        "id": "EBPi_-wts6gk",
        "colab_type": "code",
        "colab": {}
      },
      "cell_type": "code",
      "source": [
        "pd.set_option('display.max_colwidth', -1)\n",
        "#df['request_content'].loc[df['remote_file'] == True]\n",
        "df.loc[df['regex_xss']== True]"
      ],
      "execution_count": 0,
      "outputs": []
    },
    {
      "metadata": {
        "id": "iyqX-L_qs6hB",
        "colab_type": "text"
      },
      "cell_type": "markdown",
      "source": [
        "### SCALING THE XML RPC"
      ]
    },
    {
      "metadata": {
        "id": "wHWQMiRas6hD",
        "colab_type": "code",
        "colab": {}
      },
      "cell_type": "code",
      "source": [
        "xmlrpc_scale = []\n",
        "for i, item in enumerate(df['xmlrpc']):\n",
        "    if df['xmlrpc'].iloc[i] is True:\n",
        "        xmlrpc_scale.append(1)\n",
        "    else:\n",
        "        xmlrpc_scale.append(0)\n",
        "\n",
        "#For the xml rpc warning\n",
        "warning = df.index[df['xmlrpc_warning'] == True]\n",
        "for item in warning:\n",
        "    xmlrpc_scale[item] = 2\n",
        "    #print(xmlrpc_scale[item])\n",
        "    \n",
        "#For the xml rpc warning\n",
        "serious = df.index[df['xmlrpc_serious'] == True]\n",
        "for item in serious:\n",
        "    xmlrpc_scale[item] = 3\n",
        "    #print(xmlrpc_scale[item])\n",
        "\n",
        "df['xmlrpc_scale']= xmlrpc_scale"
      ],
      "execution_count": 0,
      "outputs": []
    },
    {
      "metadata": {
        "id": "R2rp6uWxs6hH",
        "colab_type": "code",
        "colab": {}
      },
      "cell_type": "code",
      "source": [
        "import collections\n",
        "freq_req_xmlrpc = (collections.Counter(df['xmlrpc_scale']))\n",
        "freq_req_xmlrpc"
      ],
      "execution_count": 0,
      "outputs": []
    },
    {
      "metadata": {
        "id": "6qUxHdKws6hN",
        "colab_type": "code",
        "colab": {}
      },
      "cell_type": "code",
      "source": [
        "# Grouping per hour and type\n",
        "df2 = df.groupby('datetime', df['xmlrpc_scale']).count().unstack()\n",
        "# Droping unnecessary column level\n",
        "df2.columns = df2.columns.droplevel()\n",
        "df2.plot(kind='bar')"
      ],
      "execution_count": 0,
      "outputs": []
    },
    {
      "metadata": {
        "id": "D0I8TAK5s6hR",
        "colab_type": "code",
        "colab": {}
      },
      "cell_type": "code",
      "source": [
        "df.groupby('datetime')"
      ],
      "execution_count": 0,
      "outputs": []
    },
    {
      "metadata": {
        "id": "bRL5ydNrs6hU",
        "colab_type": "code",
        "colab": {}
      },
      "cell_type": "code",
      "source": [
        "df.loc[df['xmlrpc_scale'] == 3]"
      ],
      "execution_count": 0,
      "outputs": []
    }
  ]
}