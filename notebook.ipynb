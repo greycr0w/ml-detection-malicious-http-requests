#We will use regular expresssion to clean the data so that we can use it for further research
